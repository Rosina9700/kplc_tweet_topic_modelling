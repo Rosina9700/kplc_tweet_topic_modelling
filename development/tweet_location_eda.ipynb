{
 "cells": [
  {
   "cell_type": "code",
   "execution_count": 12,
   "metadata": {},
   "outputs": [],
   "source": [
    "import pandas as pd\n",
    "import matplotlib.pyplot as plt\n",
    "import numpy as np\n",
    "from geopy.geocoders import Nominatim\n",
    "\n",
    "from nltk.corpus import stopwords\n",
    "from nltk.tokenize import RegexpTokenizer\n",
    "from nltk.stem.porter import PorterStemmer\n",
    "from sklearn.feature_extraction.text import TfidfVectorizer\n",
    "from sklearn.decomposition import NMF\n",
    "%matplotlib inline"
   ]
  },
  {
   "cell_type": "code",
   "execution_count": 3,
   "metadata": {
    "collapsed": true
   },
   "outputs": [],
   "source": [
    "def read_tweets(filename):\n",
    "    df = pd.read_csv(filename)\n",
    "    df = df[['date','text','geo','id']]\n",
    "    return df"
   ]
  },
  {
   "cell_type": "code",
   "execution_count": 4,
   "metadata": {
    "collapsed": true
   },
   "outputs": [],
   "source": [
    "df1 = read_tweets('data/kplc_tweets_KenyaPowerAlerts.csv')\n",
    "df2 = read_tweets('data/kplc_tweets_KenyaPower_Care.csv')\n",
    "df3 = read_tweets('data/kplc_tweets_KENYAPOWER.csv')\n",
    "df4 = read_tweets('data/kplc_tweets_kplc.csv')\n",
    "df5 = read_tweets('data/kplc_tweets_Kplc.csv')\n",
    "df6 = read_tweets('data/kplc_tweets_KPLC.csv')"
   ]
  },
  {
   "cell_type": "code",
   "execution_count": 5,
   "metadata": {
    "collapsed": true
   },
   "outputs": [],
   "source": [
    "data = df1.append([df2,df3,df4,df5,df6])"
   ]
  },
  {
   "cell_type": "code",
   "execution_count": 6,
   "metadata": {},
   "outputs": [
    {
     "name": "stdout",
     "output_type": "stream",
     "text": [
      "<class 'pandas.core.frame.DataFrame'>\n",
      "Int64Index: 27315 entries, 0 to 1820\n",
      "Data columns (total 4 columns):\n",
      "date    27315 non-null object\n",
      "text    27315 non-null object\n",
      "geo     32 non-null object\n",
      "id      27292 non-null object\n",
      "dtypes: object(4)\n",
      "memory usage: 1.0+ MB\n"
     ]
    }
   ],
   "source": [
    "data.info()"
   ]
  },
  {
   "cell_type": "code",
   "execution_count": 7,
   "metadata": {},
   "outputs": [
    {
     "name": "stdout",
     "output_type": "stream",
     "text": [
      "<class 'pandas.core.frame.DataFrame'>\n",
      "Int64Index: 23652 entries, 0 to 1826\n",
      "Data columns (total 4 columns):\n",
      "date    23652 non-null object\n",
      "text    23652 non-null object\n",
      "geo     28 non-null object\n",
      "id      23629 non-null object\n",
      "dtypes: object(4)\n",
      "memory usage: 923.9+ KB\n"
     ]
    }
   ],
   "source": [
    "data2 = data.drop_duplicates()\n",
    "data2.info()"
   ]
  },
  {
   "cell_type": "code",
   "execution_count": 8,
   "metadata": {
    "collapsed": true
   },
   "outputs": [],
   "source": [
    "text = data2['text'].values"
   ]
  },
  {
   "cell_type": "code",
   "execution_count": 9,
   "metadata": {},
   "outputs": [
    {
     "name": "stdout",
     "output_type": "stream",
     "text": [
      "<class 'pandas.core.frame.DataFrame'>\n",
      "Int64Index: 11227 entries, 0 to 1825\n",
      "Data columns (total 5 columns):\n",
      "date    11227 non-null object\n",
      "text    11227 non-null object\n",
      "geo     3 non-null object\n",
      "id      11224 non-null object\n",
      "loc     11227 non-null object\n",
      "dtypes: object(5)\n",
      "memory usage: 526.3+ KB\n"
     ]
    },
    {
     "name": "stderr",
     "output_type": "stream",
     "text": [
      "/home/rosina/anaconda2/lib/python2.7/site-packages/ipykernel_launcher.py:40: SettingWithCopyWarning: \n",
      "A value is trying to be set on a copy of a slice from a DataFrame.\n",
      "Try using .loc[row_indexer,col_indexer] = value instead\n",
      "\n",
      "See the caveats in the documentation: http://pandas.pydata.org/pandas-docs/stable/indexing.html#indexing-view-versus-copy\n"
     ]
    }
   ],
   "source": [
    "def get_loc(text):\n",
    "    locs = []\n",
    "    words = [w.lower() for w in text.split(' ')]\n",
    "    try:\n",
    "        if 'road' in words:\n",
    "            loc = words[words.index('road')-1] + ' road, kenya'\n",
    "            locs.append(loc)\n",
    "        if 'estate' in words:\n",
    "            loc = words[words.index('estate')-1] + ' estate, kenya'\n",
    "            locs.append(loc)\n",
    "        if 'town' in words:\n",
    "            loc = words[words.index('town')-1] + ' town, kenya'\n",
    "            locs.append(loc)\n",
    "        if 'area' in words:\n",
    "            loc = words[words.index('area')-1] + ' area, kenya'\n",
    "            locs.append(loc)\n",
    "        if 'ward' in words:\n",
    "            loc = words[words.index('ward')-1] + ' ward, kenya'\n",
    "            locs.append(loc)\n",
    "        if 'rd' in words:\n",
    "            loc = words[words.index('rd')-1] + ' road, kenya'\n",
    "            locs.append(loc)\n",
    "        if 'in' in words:\n",
    "            loc = words[words.index('in')+1] +', kenya'\n",
    "            locs.append(loc)\n",
    "        if 'on' in words:\n",
    "            loc = words[words.index('on')+1] +', kenya'\n",
    "            locs.append(loc)\n",
    "        if 'location' in words:\n",
    "            loc = words[words.index('location')-1] +', kenya'\n",
    "            locs.append(loc)\n",
    "        if 'county' in words:\n",
    "            loc = words[words.index('county')-1] + ' county, kenya'\n",
    "            locs.append(loc)\n",
    "    except:\n",
    "        loc = None\n",
    "        locs.append(loc)\n",
    "    return locs\n",
    "\n",
    "data2['loc'] = data2['text'].apply(get_loc)\n",
    "data3 = data2[data2.astype(str)['loc'] != '[]']\n",
    "data3.info()"
   ]
  },
  {
   "cell_type": "code",
   "execution_count": 10,
   "metadata": {
    "collapsed": true
   },
   "outputs": [],
   "source": [
    "locations = data3[['text','loc']].values"
   ]
  },
  {
   "cell_type": "code",
   "execution_count": 11,
   "metadata": {},
   "outputs": [
    {
     "name": "stdout",
     "output_type": "stream",
     "text": [
      "[ '@KenyaPower_Care No power in some houses at Omega along kangundo road. since yesterday 5p.m. Kindly assist'\n",
      " list(['some, kenya'])]\n",
      "[ '@KenyaPower_Care @KenyaPower Still in darkness... What happened yesterday and today? South B - Balozi Area?'\n",
      " list(['darkness..., kenya'])]\n",
      "[ '@KenyaPower help out in Kiambu, njathaine road messed up transformer. No lights'\n",
      " list(['njathaine road, kenya', 'kiambu,, kenya'])]\n",
      "[ 'Stop pretending of already power in coast while rabai road in Nairobi is blackout from sonko rd. to jogoo road I wonder what your doing...'\n",
      " list(['rabai road, kenya', 'coast, kenya'])]\n",
      "[ 'The last mile project has doubled connectivity in #Kenya in the last 2 years - PS Dr Eng. Joseph Njoroge at launch of #ejea3 @EnergyMinK ^EK'\n",
      " list(['#kenya, kenya'])]\n",
      "[ '@KenyaPower @KenyaPower_Care Again no power in entire kikambala area. Ac 3917346'\n",
      " list(['entire, kenya'])]\n",
      "[ '@KenyaPower only in kenya were we pay for blackout, restore power please at Mwiki, SDA chuch line, mtr no 14104344560.'\n",
      " list(['kenya, kenya'])]\n",
      "[ '@KenyaPower 5minutes after rains onset power goes off in the entire Nairobi West??'\n",
      " list(['the, kenya'])]\n",
      "[ '@KenyaPower we have no power at Jomvu in Mombasa since yester night. Any help?'\n",
      " list(['mombasa, kenya'])]\n",
      "[ 'Kindly assist on the issue above. Hatuna stima since morning @KenyaPower @KenyaPowerAlert'\n",
      " list(['the, kenya'])]\n",
      "[ 'Dr. Tarus expressed his commitment to improve power supply reliability to manufacturers in the Coast Region. #EnablingProgress'\n",
      " list(['the, kenya'])]\n",
      "['@KenyaPower no power in kenya pipeline estate muthaiga please assist'\n",
      " list(['pipeline estate, kenya', 'kenya, kenya'])]\n",
      "[ '@KenyaPower ref No 3328509 still no power and yet the estates where the rich live power is on may God help the poor'\n",
      " list(['may, kenya'])]\n",
      "[ '@kenyapower .Beware of this person on cellphone no. 0742491710 soliciting money for Kenya Power.Arrest this person immediately#muulika mwizi.'\n",
      " list(['cellphone, kenya'])]\n",
      "[ 'Kenya power in Kisii has become so corrupt and runs business on the ground like a Sole Proprietorship...cost 100K'\n",
      " list(['kisii, kenya', 'the, kenya'])]\n",
      "[ '@kenyapower plz do something about the black out in maili nne the game is about to start'\n",
      " list(['maili, kenya'])]\n",
      "[ \"@KenyaPower We are in black out since yesterday. That's in kibabii-bungoma. kindly take an action.\"\n",
      " list(['black, kenya'])]\n",
      "[ 'show iko BA bt ambieni #kplc wacheck stima area za mwihoko st.kizito zilihepa since Friday @DeeJayChara @DjBlingGhetto @GhettoRadio895'\n",
      " list(['stima area, kenya'])]\n",
      "[\"No wonder there's no power in my residence today\" list(['my, kenya'])]\n",
      "[ '@KenyaPower_Care No power in Buruburu phase 4 since today morning. Cc @KenyaPower'\n",
      " list(['buruburu, kenya'])]\n"
     ]
    }
   ],
   "source": [
    "for i in np.random.randint(0,11196,20):\n",
    "    print locations[i]\n",
    "    "
   ]
  },
  {
   "cell_type": "code",
   "execution_count": 100,
   "metadata": {},
   "outputs": [
    {
     "name": "stdout",
     "output_type": "stream",
     "text": [
      "<class 'pandas.core.frame.DataFrame'>\n",
      "Int64Index: 100 entries, 0 to 141\n",
      "Data columns (total 5 columns):\n",
      "date    100 non-null object\n",
      "text    100 non-null object\n",
      "geo     0 non-null object\n",
      "id      100 non-null object\n",
      "loc     100 non-null object\n",
      "dtypes: object(5)\n",
      "memory usage: 4.7+ KB\n"
     ]
    }
   ],
   "source": [
    "geolocator = Nominatim()\n",
    "data4 = data3.iloc[:100]\n",
    "data4.info()"
   ]
  },
  {
   "cell_type": "code",
   "execution_count": 111,
   "metadata": {
    "collapsed": true
   },
   "outputs": [],
   "source": [
    "def get_coords(locs):\n",
    "    correct_coords = None\n",
    "    for loc in locs:\n",
    "        location = geolocator.geocode(loc)\n",
    "        if location == None:\n",
    "            continue\n",
    "        coords = [location.latitude, location.longitude]\n",
    "        correct_coords = coords\n",
    "#             # check \n",
    "#             if 'kenya' in str(geolocator.reverse(\"{}, {}\".format(coords[0],coords[1])).address).split(', '):\n",
    "#                 correct_coords = coords\n",
    "    return correct_coords\n",
    "\n",
    "locs = data4['loc'].values"
   ]
  },
  {
   "cell_type": "code",
   "execution_count": 115,
   "metadata": {},
   "outputs": [
    {
     "name": "stdout",
     "output_type": "stream",
     "text": [
      "ksouth, kenya location, coordinates = [-1.2621843, 36.8875606204204]\n",
      "lavington., kenya location, coordinates = [-1.2805926, 36.7707077]\n",
      "kariobangi, kenya location, coordinates = [-1.2499923, 36.8832942]\n",
      "kariobangi, kenya location, coordinates = [-1.2499923, 36.8832942]\n",
      "nakuru town, kenya location, coordinates = [-0.4999751, 36.3240798]\n",
      "some, kenya location, coordinates = [-0.12417115, 34.3157355488373]\n",
      "kiambu road, kenya location, coordinates = [-1.2307687, 36.8418821]\n",
      "kasarini, kenya location, coordinates = [-1.196216, 36.8181255]\n",
      "kawangware, kenya location, coordinates = [-1.2784631, 36.751643]\n",
      "jamhuri,woodley., kenya location, coordinates = [-1.3056567, 36.7760046486656]\n",
      "and, kenya location, coordinates = [1.4419683, 38.4313975]\n",
      "our, kenya location, coordinates = [-1.3112059, 36.834068]\n",
      "moja road, kenya location, coordinates = [-4.0633939, 39.6670989]\n",
      "embakasi, kenya location, coordinates = [-1.3506088, 36.8941981]\n",
      "huruma, kenya location, coordinates = [-1.25764595, 36.8725983529175]\n",
      "my, kenya location, coordinates = [32.0702563, -84.2416272561257]\n",
      "a, kenya location, coordinates = [25.2209926, 55.1777590167934]\n",
      "nyawita, kenya location, coordinates = [-0.6833, 34.4166]\n",
      "kawangware!, kenya location, coordinates = [-1.2784631, 36.751643]\n",
      "nyahururu, kenya location, coordinates = [0.0333, 36.3666]\n",
      "earth, kenya location, coordinates = [-0.77144735, 37.6126280011504]\n",
      "juja, kenya location, coordinates = [-1.1032226, 37.0108947]\n",
      "why, kenya location, coordinates = [-1.26101575, 36.8620827367182]\n",
      "south, kenya location, coordinates = [-1.0418144, 34.3887763048371]\n",
      "site.., kenya location, coordinates = [-1.31899385, 36.7770860202581]\n",
      "3, kenya location, coordinates = [12.6920464, 75.5001151]\n",
      "langata, kenya location, coordinates = [-22.55079, 144.2592846]\n",
      "in, kenya location, coordinates = [12.6920464, 75.5001151]\n",
      "your, kenya location, coordinates = [-1.3148618, 36.8681435]\n",
      "the, kenya location, coordinates = [1.4419683, 38.4313975]\n",
      "funguo estate, kenya location, coordinates = [-1.3122933, 36.8101056]\n",
      "the, kenya location, coordinates = [1.4419683, 38.4313975]\n",
      "west area, kenya location, coordinates = [9.03716185, 7.46855645546186]\n",
      "nbi, kenya location, coordinates = [-1.3292489, 36.8816932220472]\n",
      "the, kenya location, coordinates = [1.4419683, 38.4313975]\n",
      "the area, kenya location, coordinates = [-0.2958554, 36.1228991]\n",
      "langata, kenya location, coordinates = [-22.55079, 144.2592846]\n",
      "nyamira county, kenya location, coordinates = [-0.65278395, 34.9338584]\n",
      "service, kenya location, coordinates = [1.4419683, 38.4313975]\n",
      "upper, kenya location, coordinates = [-0.2166, 36.2666]\n",
      "church area, kenya location, coordinates = [-0.2958554, 36.1228991]\n",
      "langata,, kenya location, coordinates = [-22.55079, 144.2592846]\n",
      "transformer, kenya location, coordinates = [-1.2879623, 36.7804165]\n",
      "1, kenya location, coordinates = [12.6920464, 75.5001151]\n",
      "2 estate, kenya location, coordinates = [-1.32948155, 36.9328123679123]\n",
      "langata,, kenya location, coordinates = [-22.55079, 144.2592846]\n",
      "nyeri road, kenya location, coordinates = [-1.2819543, 36.7801356]\n",
      "nyeri, kenya location, coordinates = [-0.3167549, 36.9310063554392]\n",
      "phone., kenya location, coordinates = [-1.3141781, 36.8013486]\n"
     ]
    },
    {
     "ename": "GeocoderTimedOut",
     "evalue": "Service timed out",
     "output_type": "error",
     "traceback": [
      "\u001b[0;31m---------------------------------------------------------------------------\u001b[0m",
      "\u001b[0;31mGeocoderTimedOut\u001b[0m                          Traceback (most recent call last)",
      "\u001b[0;32m<ipython-input-115-9362d2442077>\u001b[0m in \u001b[0;36m<module>\u001b[0;34m()\u001b[0m\n\u001b[1;32m      1\u001b[0m \u001b[0;32mfor\u001b[0m \u001b[0mlocations\u001b[0m \u001b[0;32min\u001b[0m \u001b[0mlocs\u001b[0m\u001b[0;34m:\u001b[0m\u001b[0;34m\u001b[0m\u001b[0m\n\u001b[1;32m      2\u001b[0m     \u001b[0;32mfor\u001b[0m \u001b[0ml\u001b[0m \u001b[0;32min\u001b[0m \u001b[0mlocations\u001b[0m\u001b[0;34m:\u001b[0m\u001b[0;34m\u001b[0m\u001b[0m\n\u001b[0;32m----> 3\u001b[0;31m         \u001b[0mlocation\u001b[0m \u001b[0;34m=\u001b[0m \u001b[0mgeolocator\u001b[0m\u001b[0;34m.\u001b[0m\u001b[0mgeocode\u001b[0m\u001b[0;34m(\u001b[0m\u001b[0ml\u001b[0m\u001b[0;34m)\u001b[0m\u001b[0;34m\u001b[0m\u001b[0m\n\u001b[0m\u001b[1;32m      4\u001b[0m         \u001b[0;32mif\u001b[0m \u001b[0mlocation\u001b[0m \u001b[0;34m==\u001b[0m \u001b[0mNone\u001b[0m\u001b[0;34m:\u001b[0m\u001b[0;34m\u001b[0m\u001b[0m\n\u001b[1;32m      5\u001b[0m             \u001b[0;32mcontinue\u001b[0m\u001b[0;34m\u001b[0m\u001b[0m\n",
      "\u001b[0;32m/home/rosina/anaconda2/lib/python2.7/site-packages/geopy/geocoders/osm.pyc\u001b[0m in \u001b[0;36mgeocode\u001b[0;34m(self, query, exactly_one, timeout, addressdetails, language, geometry)\u001b[0m\n\u001b[1;32m    191\u001b[0m         \u001b[0mlogger\u001b[0m\u001b[0;34m.\u001b[0m\u001b[0mdebug\u001b[0m\u001b[0;34m(\u001b[0m\u001b[0;34m\"%s.geocode: %s\"\u001b[0m\u001b[0;34m,\u001b[0m \u001b[0mself\u001b[0m\u001b[0;34m.\u001b[0m\u001b[0m__class__\u001b[0m\u001b[0;34m.\u001b[0m\u001b[0m__name__\u001b[0m\u001b[0;34m,\u001b[0m \u001b[0murl\u001b[0m\u001b[0;34m)\u001b[0m\u001b[0;34m\u001b[0m\u001b[0m\n\u001b[1;32m    192\u001b[0m         return self._parse_json(\n\u001b[0;32m--> 193\u001b[0;31m             \u001b[0mself\u001b[0m\u001b[0;34m.\u001b[0m\u001b[0m_call_geocoder\u001b[0m\u001b[0;34m(\u001b[0m\u001b[0murl\u001b[0m\u001b[0;34m,\u001b[0m \u001b[0mtimeout\u001b[0m\u001b[0;34m=\u001b[0m\u001b[0mtimeout\u001b[0m\u001b[0;34m)\u001b[0m\u001b[0;34m,\u001b[0m \u001b[0mexactly_one\u001b[0m\u001b[0;34m\u001b[0m\u001b[0m\n\u001b[0m\u001b[1;32m    194\u001b[0m         )\n\u001b[1;32m    195\u001b[0m \u001b[0;34m\u001b[0m\u001b[0m\n",
      "\u001b[0;32m/home/rosina/anaconda2/lib/python2.7/site-packages/geopy/geocoders/base.pyc\u001b[0m in \u001b[0;36m_call_geocoder\u001b[0;34m(self, url, timeout, raw, requester, deserializer, **kwargs)\u001b[0m\n\u001b[1;32m    168\u001b[0m             \u001b[0;32melif\u001b[0m \u001b[0misinstance\u001b[0m\u001b[0;34m(\u001b[0m\u001b[0merror\u001b[0m\u001b[0;34m,\u001b[0m \u001b[0mSSLError\u001b[0m\u001b[0;34m)\u001b[0m\u001b[0;34m:\u001b[0m\u001b[0;34m\u001b[0m\u001b[0m\n\u001b[1;32m    169\u001b[0m                 \u001b[0;32mif\u001b[0m \u001b[0;34m\"timed out\"\u001b[0m \u001b[0;32min\u001b[0m \u001b[0mmessage\u001b[0m\u001b[0;34m:\u001b[0m\u001b[0;34m\u001b[0m\u001b[0m\n\u001b[0;32m--> 170\u001b[0;31m                     \u001b[0;32mraise\u001b[0m \u001b[0mGeocoderTimedOut\u001b[0m\u001b[0;34m(\u001b[0m\u001b[0;34m'Service timed out'\u001b[0m\u001b[0;34m)\u001b[0m\u001b[0;34m\u001b[0m\u001b[0m\n\u001b[0m\u001b[1;32m    171\u001b[0m             \u001b[0;32mraise\u001b[0m \u001b[0mGeocoderServiceError\u001b[0m\u001b[0;34m(\u001b[0m\u001b[0mmessage\u001b[0m\u001b[0;34m)\u001b[0m\u001b[0;34m\u001b[0m\u001b[0m\n\u001b[1;32m    172\u001b[0m \u001b[0;34m\u001b[0m\u001b[0m\n",
      "\u001b[0;31mGeocoderTimedOut\u001b[0m: Service timed out"
     ]
    }
   ],
   "source": [
    "for locations in locs:\n",
    "    for l in locations:\n",
    "        location = geolocator.geocode(l)\n",
    "        if location == None:\n",
    "            continue\n",
    "        coords = [location.latitude, location.longitude]\n",
    "        print '{} location, coordinates = {}'.format(l,coords)"
   ]
  },
  {
   "cell_type": "code",
   "execution_count": null,
   "metadata": {
    "collapsed": true
   },
   "outputs": [],
   "source": []
  }
 ],
 "metadata": {
  "kernelspec": {
   "display_name": "Python 2",
   "language": "python",
   "name": "python2"
  },
  "language_info": {
   "codemirror_mode": {
    "name": "ipython",
    "version": 2
   },
   "file_extension": ".py",
   "mimetype": "text/x-python",
   "name": "python",
   "nbconvert_exporter": "python",
   "pygments_lexer": "ipython2",
   "version": "2.7.14"
  }
 },
 "nbformat": 4,
 "nbformat_minor": 2
}
